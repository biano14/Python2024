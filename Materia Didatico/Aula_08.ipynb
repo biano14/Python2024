{
 "cells": [
  {
   "cell_type": "markdown",
   "metadata": {},
   "source": [
    "# **Aula 08 - Laços de repetição**\n",
    "---"
   ]
  },
  {
   "cell_type": "markdown",
   "metadata": {},
   "source": [
    "A essa altura do campeonato, você já deve ter visto que os programas só rodam uma única vez. Caso o usuário deseje rodar o programa de novo, ele deverá executar mais uma vez o programa, o que torna a tarefa de executar um programa cansativo, visto que o usuário deverá rodar várias vezes o mesmo programa apenas para testar diferentes resultados. É aí onde entram os ***loops***, ou **laços de repetição**.\n",
    "\n",
    "Eles são blocos de programação que executam um único algoritmo várias vezes seguidas antes de finalizar. O número de vezes em que ele é executado depende de vários fatores, como vamos aprender nessa aula."
   ]
  },
  {
   "cell_type": "markdown",
   "metadata": {},
   "source": [
    "## Laço while\n",
    "---"
   ]
  },
  {
   "cell_type": "markdown",
   "metadata": {},
   "source": [
    "O `while` é um bloco que repete um algoritmo enquanto uma determinada condição for verdadeira. Vamos começar com uma demonstração bem simples: criar um programa que exibe uma contagem de 10 a 0...coisa simples."
   ]
  },
  {
   "cell_type": "code",
   "execution_count": 3,
   "metadata": {},
   "outputs": [
    {
     "name": "stdout",
     "output_type": "stream",
     "text": [
      "10\n",
      "9\n",
      "8\n",
      "7\n",
      "6\n",
      "5\n",
      "4\n",
      "3\n",
      "2\n",
      "1\n",
      "0\n"
     ]
    }
   ],
   "source": [
    "# declaração de variável\n",
    "numero = 10\n",
    "\n",
    "# loop\n",
    "while numero >= 0:\n",
    "    print(numero)\n",
    "    numero -= 1"
   ]
  },
  {
   "cell_type": "markdown",
   "metadata": {},
   "source": [
    "Repare que com um único `print()` foram impressos 11 números, de 10 a 0. O que ele fez foi imprimir o valor da variável `numero` enquanto ela fosse maior ou igual a 0. No momento que ela chegou ao valor -1, o loop se encerrou, pois a condição não foi mais atendida. Repare também que, para que a repetição chegasse ao fim, foi necessário acrescentar o comando `numero -= 1`, que tem a função de subtrair o número 1 ao valor da variável `numero`, alterando assim o valor da variável para cada nova repetição. Caso isso não fosse feito, o programa iria exibir o número 10 em sequências intermináveis, pois o valor da variável `numero`nunca iria mudar, e consequentemente nunca iria chegar a ser menor que 0, o que faria o programa entrar no que chamamos de **loop infinito**, e isso é um problema, pois o programa ficaria rodando eternamente até ocupar 100% da memória RAM e da CPU, travando assim seu computador e forçando uma reinicialização que poderia prejudicar as tarefas em execução no seu SO, ou no pior dos casos, danificar fisicamente seu PC. Outro ponto também é que o valor da variável `numero` é positivo, e foi isso que permitiu que o loop fosse executado. Caso o valor de `numero` fosse negativo, o programa não iria executar o loop.\n",
    "\n",
    "Assim como os blocos das estruturas de decisão, o while começa e termina onde o código estiver **indentado**. Portanto, nunca se esqueça de indentar corretamente seu código, já que toda a parte do código indentada fará parte do loop.\n",
    "\n",
    "### Continue\n",
    "\n",
    "O comando `continue` serve para que a execução do restante do bloco seja desconsiderada e o código ignorado. O loop terá sua contagem contabilizada e o programa retorna para o início do loop. Segue o exemplo abaixo:"
   ]
  },
  {
   "cell_type": "code",
   "execution_count": 4,
   "metadata": {},
   "outputs": [
    {
     "name": "stdout",
     "output_type": "stream",
     "text": [
      "2\n",
      "Contando...\n",
      "4\n",
      "Contando...\n",
      "6\n",
      "Contando...\n",
      "8\n",
      "Contando...\n",
      "10\n",
      "Contando...\n"
     ]
    }
   ],
   "source": [
    "cont = 0\n",
    "\n",
    "while cont < 10:\n",
    "    cont += 1\n",
    "    if cont % 2 == 0:\n",
    "        print(cont)\n",
    "    else:\n",
    "        continue\n",
    "\n",
    "    print('Contando...')"
   ]
  },
  {
   "cell_type": "markdown",
   "metadata": {},
   "source": [
    "### Break\n",
    "\n",
    "O comando `break` faz o contrário: encerra imediatamente o loop e vai para o final do programa, sem terminar o loop, mesmo que a condição esteja sendo atendida:"
   ]
  },
  {
   "cell_type": "code",
   "execution_count": 6,
   "metadata": {},
   "outputs": [
    {
     "name": "stdout",
     "output_type": "stream",
     "text": [
      "2\n",
      "Contando...\n",
      "4\n",
      "Contando...\n",
      "6\n",
      "Contando...\n"
     ]
    }
   ],
   "source": [
    "cont = 0\n",
    "\n",
    "while cont < 15:\n",
    "    cont += 1\n",
    "    if cont % 2 == 0:\n",
    "        print(cont)\n",
    "    elif cont >= 7:\n",
    "        break\n",
    "    else:\n",
    "        continue\n",
    "\n",
    "    print('Contando...')"
   ]
  },
  {
   "cell_type": "markdown",
   "metadata": {},
   "source": [
    "### Pass\n",
    "\n",
    "O comando `pass` é utilizado para o programa simplesmente pular uma determinada opção. Pode ser substituído por `...`. Veja o exemplo:"
   ]
  },
  {
   "cell_type": "code",
   "execution_count": 7,
   "metadata": {},
   "outputs": [
    {
     "name": "stdout",
     "output_type": "stream",
     "text": [
      "Contando...\n",
      "2\n",
      "Contando...\n",
      "Contando...\n",
      "4\n",
      "Contando...\n",
      "6\n",
      "Contando...\n",
      "8\n",
      "Contando...\n",
      "10\n",
      "Contando...\n",
      "12\n",
      "Contando...\n",
      "14\n",
      "Contando...\n"
     ]
    }
   ],
   "source": [
    "cont = 0\n",
    "\n",
    "while cont < 20:\n",
    "    cont += 1\n",
    "    if cont % 2 == 0:\n",
    "        print(cont)\n",
    "    elif cont < 5:\n",
    "        pass\n",
    "    elif cont >= 15:\n",
    "        break\n",
    "    else:\n",
    "        continue\n",
    "\n",
    "    print('Contando...')"
   ]
  },
  {
   "cell_type": "markdown",
   "metadata": {},
   "source": [
    "Agora o mesmo exemplo, só que com `...` no lugar do `pass`:"
   ]
  },
  {
   "cell_type": "code",
   "execution_count": 8,
   "metadata": {},
   "outputs": [
    {
     "name": "stdout",
     "output_type": "stream",
     "text": [
      "Contando...\n",
      "2\n",
      "Contando...\n",
      "Contando...\n",
      "4\n",
      "Contando...\n",
      "6\n",
      "Contando...\n",
      "8\n",
      "Contando...\n",
      "10\n",
      "Contando...\n",
      "12\n",
      "Contando...\n",
      "14\n",
      "Contando...\n"
     ]
    }
   ],
   "source": [
    "cont = 0\n",
    "\n",
    "while cont < 20:\n",
    "    cont += 1\n",
    "    if cont % 2 == 0:\n",
    "        print(cont)\n",
    "    elif cont < 5:\n",
    "        ...\n",
    "    elif cont >= 15:\n",
    "        break\n",
    "    else:\n",
    "        continue\n",
    "\n",
    "    print('Contando...')"
   ]
  },
  {
   "cell_type": "markdown",
   "metadata": {},
   "source": [
    "### Laço while True\n",
    "\n",
    "Agora uma surpresa que poderá deixar os programadores das outras linguagens  chocados: **O PYTHON NÃO POSSUI O LAÇO `DO...WHILE`**. É isso mesmo: não se faz o `do...while` no Python. No lugar dele, o mesmo `while` é usado em conjunto com um valor booleano para executar um loop infinito, ou até que ocorra uma quebra no loop, como iremos aprender a seguir. Vamos retornar a um exemplo feito nas aulas anteriores para fins de demonstração: retornaremos ao algoritmo da verificação da idade, e refazê-lo para que o usuário decida quando encerrar o programa:"
   ]
  },
  {
   "cell_type": "code",
   "execution_count": 2,
   "metadata": {},
   "outputs": [
    {
     "name": "stdout",
     "output_type": "stream",
     "text": [
      "Alex é maior de idade.\n",
      "Alex Machado é menor de idade.\n"
     ]
    }
   ],
   "source": [
    "# loop\n",
    "while True:\n",
    "    # entrada do nome\n",
    "    nome = input('Informe o seu nome ou deixe em branco para sair: ')\n",
    "\n",
    "    # verifica se o valor foi informado ou não\n",
    "    if nome != '':\n",
    "        # entrada da idade\n",
    "        idade = int(input('Informe sua idade: '))\n",
    "\n",
    "        # verificação da idade\n",
    "        if idade >= 18:\n",
    "            print(f'{nome} é maior de idade.')\n",
    "        else:\n",
    "            print(f'{nome} é menor de idade.')\n",
    "\n",
    "        continue # retorna ao início do loop\n",
    "    else:\n",
    "        break # encerra o loop"
   ]
  },
  {
   "cell_type": "markdown",
   "metadata": {},
   "source": [
    "No caso do algoritmo acima, o usuário informa o nome e a idade, e o programa verifica se o usuário é maior ou menor de idade. Até aí, nada diferente do que fizemos na aula passada. Mas após fazer a verificação da idade do usuário, o comando `continue` é executado. Esse comando desconsidera todo o programa após essa linha, e retorna para o início do loop, perguntando o nome novamente. Caso o usuário deseje enncerrar o programa, basta deixar esse campo em branco, e ele irá executar o comando `break`, que simplesmente encerra o lopp e parte para o final do programa.\n",
    "\n",
    "O legal é que essa estrutura pode ser aplicada para qualquer programa, tanto os que nós criamos nas aulas anteriores como nos próximos também."
   ]
  },
  {
   "cell_type": "markdown",
   "metadata": {},
   "source": [
    "## Laço for\n",
    "---"
   ]
  },
  {
   "cell_type": "markdown",
   "metadata": {},
   "source": [
    "O laço `for` é um dos loops mais usados na programação. É um laço de repetição como o anterior também, mas com uma diferença: é sempre executado com um número finito de vezes, evitando que o programa entre em loop infinito. A desvantagem em relação so `while` é que o número de loops dessa vez é ditado pelo próprio programa ao invés do usuário final. Este, por sua vez, não possui controle sobre o número de loops a ser executado no for, ou pelo menos não diretamente. Para fins de exemplo, vaos executar um programa parecido com o primeiro programa dessa aula, mas desta vez, o programa irá exibir números de 0 a 4. Segue o algoritmo:"
   ]
  },
  {
   "cell_type": "code",
   "execution_count": 4,
   "metadata": {},
   "outputs": [
    {
     "name": "stdout",
     "output_type": "stream",
     "text": [
      "0\n",
      "1\n",
      "2\n",
      "3\n",
      "4\n"
     ]
    }
   ],
   "source": [
    "for n in range(5):\n",
    "    print(n)"
   ]
  },
  {
   "cell_type": "markdown",
   "metadata": {},
   "source": [
    "Vamos analisar esse algoritmo: repare como ele é bem mais simplificado que o laço `while`. A variável `n` foi declarada dentro do próprio laço sem a necessidade de inicialização. Isso porque quando uma variável é declarada diretamente no laço `for`, ele automaticamente assume o valor `0` (há um motivo para isso que será explicado mais para frente). A função `range()` indica o número de loops que o laço irá obrigatoriamente executar, nesse caso serão 5 vezes. Não só isso: para cada loop, ele automaticamente irá somar mais um na variável `n` de forma automática, sem a necessidade de atribuir uma soma à variável, como ocorre no laço `while`. Dessa forma, o valor de `n` muda a cada novo loop, e não há a necessidade de colocar o comando `n += 1`.\n",
    "\n",
    "### Sobre a contagem de números decimais do computador\n",
    "\n",
    "A essa altura do campeonato, já se sabe que o computador não executa certas tarefas da mesma forma que nós, e o mesmo vale para a contagem numérica. Para entendermos isso, precisamos entender como funciona o sistema decimal de contagem. O sistema decimal é composto pelos números de 0 a 9, e a partir disso, adicionamos mais uma casa decimal. Por exemplo: o número após o 9 é o 10, com duas casas decimais. No mundo real, o ser humano utiliza esse sistema para contar quantidade de elementos. Por exemplo: 0 maçâs significa nenhuma maçã, e a partir daí temos 1 maçã, 2 maçãs, 3 maçãs....e por aí vai.\n",
    "\n",
    "O computador entende esse sistema de forma diferente, já que ele começa a contagem a partir do número 0, e não do 1. É por isso que a contagem no algoritmo anterior começou do 0 e parou no 4. O primeiro número foi 0, e o quinto número foi o 4. Se o `range()` tivesse o número 8, a contagem ia ser até o número 7, e assim por diante. Este detalhe será de extrema importância para a próxima aula, já que o laço `for` é muito utilizado para trabalhar com listas, que é exatamente o assunto da próxima aula."
   ]
  },
  {
   "cell_type": "markdown",
   "metadata": {},
   "source": [
    "## Exercícios\n",
    "---"
   ]
  },
  {
   "cell_type": "markdown",
   "metadata": {},
   "source": [
    "### 1. Crie um programa que receba 2 números do usuário, e que ele possa escolher um das 4 operações matemáticas para calcular os dois números. O programa deverá exibir na tela o resultado da conta matemática. O programa deverá dar também ao usuário uma opção para sair do programa caso deseje, e que ele possa fazer quantos cálculos desejar."
   ]
  },
  {
   "cell_type": "code",
   "execution_count": null,
   "metadata": {},
   "outputs": [],
   "source": [
    "# TODO"
   ]
  },
  {
   "cell_type": "markdown",
   "metadata": {},
   "source": [
    "### 2. Crie um programa que liste 5 salas de cinema, e mostre os filmes de cada uma das salas e suas classificações indicativas. O usuário deverá informar sua idade e a sala com o filme desejado. Caso o usuário tenha a idade mínima para ver o filme, o programa irá imprimir o ingresso para o filme desejado. Caso o usuário não tenha a idade mínima, o programa deverá informar que ele não tem idade para ver o filme, e deverá retornar a lista de filmes para que o usuário escolha outro filme."
   ]
  },
  {
   "cell_type": "code",
   "execution_count": null,
   "metadata": {},
   "outputs": [],
   "source": [
    "# TODO"
   ]
  }
 ],
 "metadata": {
  "kernelspec": {
   "display_name": ".venv",
   "language": "python",
   "name": "python3"
  },
  "language_info": {
   "codemirror_mode": {
    "name": "ipython",
    "version": 3
   },
   "file_extension": ".py",
   "mimetype": "text/x-python",
   "name": "python",
   "nbconvert_exporter": "python",
   "pygments_lexer": "ipython3",
   "version": "3.12.2"
  }
 },
 "nbformat": 4,
 "nbformat_minor": 2
}

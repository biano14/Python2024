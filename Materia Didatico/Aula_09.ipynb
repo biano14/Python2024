{
 "cells": [
  {
   "cell_type": "markdown",
   "metadata": {},
   "source": [
    "# **Aula 09 - Coleções Parte 1: Lista**\n",
    "---"
   ]
  },
  {
   "cell_type": "markdown",
   "metadata": {},
   "source": [
    "Na aula 05, vimos quee uma variável é um valor que varia e não sabemos qual é. Também vimos que ao declarar essa variável, o computador reserva um pedaço da memória RAM para armazenar esse valor. Agora, vamos descobrir que podemos armazenar mais de um valor em uma única variável. As coleções são muito parecidas com o que nas outras linguagens chamamos de _arrays_. Há 3 tipos de coleções em Python: **lista**, **tupla** e **dicionário**. É justamente nesse ponto onde o Python se encontra tão mais forte e poderoso em relação à otras linguagens de programação.\n",
    "\n",
    "**Obs:** para os que já conhecem os _arrays_ das outras linguagens, há uma importante diferença para as listas: diferentemente dos _arrays_, uma lista pode conter dados de diferentes tipos.\n",
    "\n",
    "## Lista\n",
    "---"
   ]
  },
  {
   "cell_type": "markdown",
   "metadata": {},
   "source": [
    "É o equivalente ao _vetor_ nas outras linguagens de programação. Consiste em um conjunto de dados de um mesmo tipo armazenados em uma única variável, que por sua vez reserva vários espaços na memória RAM para isso. Sua estrutura é identificada por `nome_lista = [valor1, valor2, valor3, ...]`, quando a lista já recebe os valores diretamente na declaração, e `nome_lista =[]` para inicializar uma lista vazia. Segue o exemplo abaixo:"
   ]
  },
  {
   "cell_type": "code",
   "execution_count": 1,
   "metadata": {},
   "outputs": [
    {
     "name": "stdout",
     "output_type": "stream",
     "text": [
      "['Fulano', 'Cicrano', 'Beltrano', 'Joana', 'Maria', 'Mariana']\n"
     ]
    }
   ],
   "source": [
    "# lista\n",
    "nomes_lista = ['Fulano', 'Cicrano', 'Beltrano', 'Joana', 'Maria', 'Mariana']\n",
    "\n",
    "# imprime lista na tela\n",
    "print(nomes_lista)"
   ]
  },
  {
   "cell_type": "markdown",
   "metadata": {},
   "source": [
    "É possível exibir apenas nomes específicos da lista, desde que se  saiba em qual posição ele se encontra. É por isso que aprendemos na aula passada sobre a forma de contagem numérica dos computadores, pois esse detalhe é importante aqui. Lembre-se: o computador começa a contar do 0. Isso significa que, se eu quiser que ele exiba o primeiro nome da lista, na verdade ele tem que trazer o nome na posição 0, enquanto que o nome na posição 1, na verdade, é o segundo nome da lista."
   ]
  },
  {
   "cell_type": "code",
   "execution_count": 3,
   "metadata": {},
   "outputs": [
    {
     "name": "stdout",
     "output_type": "stream",
     "text": [
      "Fulano\n",
      "Beltrano\n",
      "Mariana\n"
     ]
    }
   ],
   "source": [
    "# lista\n",
    "nomes_lista = ['Fulano', 'Cicrano', 'Beltrano', 'Joana', 'Maria', 'Mariana']\n",
    "\n",
    "print(nomes_lista[0]) # exibindo o primeiro nome da lista\n",
    "print(nomes_lista[2]) # exibindo o terceiro nome da lista\n",
    "print(nomes_lista[5]) # exibindo o sexto e último nome da lista"
   ]
  },
  {
   "cell_type": "markdown",
   "metadata": {},
   "source": [
    "Também posso exibir todos os nomes da lista de uma forma mais organizada. Basta apenas percorrer a lista utilizando o laço `for` aprendido na aula passada:"
   ]
  },
  {
   "cell_type": "code",
   "execution_count": 4,
   "metadata": {},
   "outputs": [
    {
     "name": "stdout",
     "output_type": "stream",
     "text": [
      "Fulano\n",
      "Cicrano\n",
      "Beltrano\n",
      "Joana\n",
      "Maria\n",
      "Mariana\n"
     ]
    }
   ],
   "source": [
    "# lista\n",
    "nomes_lista = ['Fulano', 'Cicrano', 'Beltrano', 'Joana', 'Maria', 'Mariana']\n",
    "\n",
    "# percorrendo a lista\n",
    "for nome in nomes_lista:\n",
    "    print(nome)"
   ]
  },
  {
   "cell_type": "markdown",
   "metadata": {},
   "source": [
    "Muitos programadores vão se surpreender com a forma como o `for` está sendo usado acima, pois em outras linguagens, há um outro laço de repetição chamado `foreach`, que é utilizado exatamente dessa forma como no código acima. Mas no Python, não temos `foreach`. Ao invés disso, podemos usar o `for` da mesma forma.\n",
    "\n",
    "No próximo exemplo, iremos reexibir toda a lista, mas desta vez com um contador do lado:"
   ]
  },
  {
   "cell_type": "code",
   "execution_count": 5,
   "metadata": {},
   "outputs": [
    {
     "name": "stdout",
     "output_type": "stream",
     "text": [
      "1º nome da lista: Fulano\n",
      "2º nome da lista: Cicrano\n",
      "3º nome da lista: Beltrano\n",
      "4º nome da lista: Joana\n",
      "5º nome da lista: Maria\n",
      "6º nome da lista: Mariana\n"
     ]
    }
   ],
   "source": [
    "# lista\n",
    "nomes_lista = ['Fulano', 'Cicrano', 'Beltrano', 'Joana', 'Maria', 'Mariana']\n",
    "\n",
    "# percorrendo a lista com um contador\n",
    "for i in range(len(nomes_lista)):\n",
    "    print(f'{i + 1}º nome da lista: {nomes_lista[i]}')"
   ]
  },
  {
   "cell_type": "markdown",
   "metadata": {},
   "source": [
    "### Diferentes tipos de dados em uma única lista\n",
    "\n",
    "Como dito anteriormente, é possível armazenar dados de diferentes tipos em uma única lista. No exemplo abaixo, estamos armazenando na mesma lista: _strings_, _ints_ e _floats_."
   ]
  },
  {
   "cell_type": "code",
   "execution_count": 2,
   "metadata": {},
   "outputs": [
    {
     "name": "stdout",
     "output_type": "stream",
     "text": [
      "Alex <class 'str'>\n",
      "39 <class 'int'>\n",
      "1.72 <class 'float'>\n"
     ]
    }
   ],
   "source": [
    "# lista com diferentes tipos de dados\n",
    "lista_dados = ['Alex', 39, 1.72]\n",
    "\n",
    "# exibindo os dados da lista na tela e seus respectivos tipos\n",
    "for dado in lista_dados:\n",
    "    print(dado, type(dado))"
   ]
  },
  {
   "cell_type": "markdown",
   "metadata": {},
   "source": [
    "## Percorrendo variável simples como se fosse lista\n",
    "---"
   ]
  },
  {
   "cell_type": "markdown",
   "metadata": {},
   "source": [
    "É possível pegar o valor de uma variável e destrinchá-lo como uma lista. Veja o código-fonte a seguir:"
   ]
  },
  {
   "cell_type": "code",
   "execution_count": 6,
   "metadata": {},
   "outputs": [
    {
     "name": "stdout",
     "output_type": "stream",
     "text": [
      "S\n",
      "E\n",
      "N\n",
      "A\n",
      "I\n"
     ]
    }
   ],
   "source": [
    "# variável\n",
    "nome = 'SENAI'\n",
    "\n",
    "# percorrendo cada caractere do valor da variável\n",
    "for i in nome:\n",
    "    print(i)"
   ]
  },
  {
   "cell_type": "markdown",
   "metadata": {},
   "source": [
    "## Ordenando dados da lista\n",
    "---"
   ]
  },
  {
   "cell_type": "markdown",
   "metadata": {},
   "source": [
    "É possível ordenar os dados da lista, tanto em ordem crescente (no caso dos números) como em ordem alfabética (no caso de textos) através da função `sort()`, como veremos no código-fonte abaixo:"
   ]
  },
  {
   "cell_type": "code",
   "execution_count": 1,
   "metadata": {},
   "outputs": [
    {
     "name": "stdout",
     "output_type": "stream",
     "text": [
      "Beltrano\n",
      "Cicrano\n",
      "Fulano\n",
      "Joana\n",
      "Maria\n",
      "Mariana\n"
     ]
    }
   ],
   "source": [
    "nomes_lista = ['Fulano', 'Cicrano', 'Beltrano', 'Joana', 'Maria', 'Mariana']\n",
    "\n",
    "# ordena os dados da lista\n",
    "nomes_lista.sort()\n",
    "\n",
    "for nome in nomes_lista:\n",
    "    print(nome)"
   ]
  },
  {
   "cell_type": "markdown",
   "metadata": {},
   "source": [
    "## Pesquisando dados em uma lista\n",
    "---"
   ]
  },
  {
   "cell_type": "markdown",
   "metadata": {},
   "source": [
    "Poss usar algoritmos de pesquisa para encontrar um determinado valor em uma lista. O recurso é útil para verificar se um determinado valor existe ou não em uma lista.\n",
    "\n",
    "### Forma 1: operador in\n",
    "\n",
    "Podemos fazer um `if` econjunto com o operador `in` para encontrar um valor em uma lista:"
   ]
  },
  {
   "cell_type": "code",
   "execution_count": 12,
   "metadata": {},
   "outputs": [
    {
     "name": "stdout",
     "output_type": "stream",
     "text": [
      "Joana\n"
     ]
    }
   ],
   "source": [
    "nomes_lista = ['Fulano', 'Cicrano', 'Beltrano', 'Joana', 'Maria', 'Mariana']\n",
    "nome = input('Informe o nome que deseja encontrar: ')\n",
    "\n",
    "# busca o nome desejado\n",
    "if nome in nomes_lista:\n",
    "    print(nome)\n",
    "else:\n",
    "    print(f'{nome} não encontrado.')"
   ]
  },
  {
   "cell_type": "markdown",
   "metadata": {},
   "source": [
    "### Forma 2: index\n",
    "\n",
    "Outro método bastante utilizado para buscar elementos em uma lista é o método “index”. Esse método retorna o índice do primeiro elemento encontrado na lista que corresponde ao valor buscado:"
   ]
  },
  {
   "cell_type": "code",
   "execution_count": 13,
   "metadata": {},
   "outputs": [
    {
     "name": "stdout",
     "output_type": "stream",
     "text": [
      "Cicrano encontrado no índice 1.\n"
     ]
    }
   ],
   "source": [
    "nomes_lista = ['Fulano', 'Cicrano', 'Beltrano', 'Joana', 'Maria', 'Mariana']\n",
    "nome = input('Informe o nome que deseja encontrar: ')\n",
    "\n",
    "# procura pelo índice através do valor\n",
    "indice = nomes_lista.index(nome)\n",
    "\n",
    "# retorna resultado\n",
    "try:\n",
    "    print(f'{nome} encontrado no índice {indice}.')\n",
    "except:\n",
    "    print(f'{nome} não encontrado.')"
   ]
  },
  {
   "cell_type": "markdown",
   "metadata": {},
   "source": [
    "### Forma 3: count\n",
    "\n",
    "O Python também oferece a função “count” para contar a quantidade de ocorrências de um determinado elemento em uma lista:"
   ]
  },
  {
   "cell_type": "code",
   "execution_count": 14,
   "metadata": {},
   "outputs": [
    {
     "name": "stdout",
     "output_type": "stream",
     "text": [
      "Fulano foi encontrado na lista 2 vezes.\n"
     ]
    }
   ],
   "source": [
    "nomes_lista = ['Fulano', 'Cicrano', 'Beltrano', 'Joana', 'Maria', 'Fulano']\n",
    "nome = input('Informe o nome que deseja encontrar: ')\n",
    "\n",
    "# conta a quantidade de vezes que o valor foi encontrado\n",
    "quantidade = nomes_lista.count(nome)\n",
    "\n",
    "# retorna resultado\n",
    "try:\n",
    "    print(f'{nome} foi encontrado na lista {quantidade} vezes.')\n",
    "except:\n",
    "    print(f'{nome} não foi encontrado.')"
   ]
  },
  {
   "cell_type": "markdown",
   "metadata": {},
   "source": [
    "## Alterando dados de uma lista\n",
    "---"
   ]
  },
  {
   "cell_type": "markdown",
   "metadata": {},
   "source": [
    "Uma vez que você pode consultar e acessar os dados de uma lista, pode facilmente alterar seu valor. No exemplo abaixo, vamos alterar o primeiro nome da lista. Para isso, precisaremos apenas saber e acessar exatamente o seu índice:"
   ]
  },
  {
   "cell_type": "code",
   "execution_count": 9,
   "metadata": {},
   "outputs": [
    {
     "name": "stdout",
     "output_type": "stream",
     "text": [
      "Alex\n",
      "Cicrano\n",
      "Beltrano\n",
      "Joana\n",
      "Maria\n",
      "Fulano\n"
     ]
    }
   ],
   "source": [
    "nomes_lista = ['Fulano', 'Cicrano', 'Beltrano', 'Joana', 'Maria', 'Fulano']\n",
    "nomes_lista[0] = 'Alex'\n",
    "\n",
    "for nome in nomes_lista:\n",
    "    print(nome)"
   ]
  },
  {
   "cell_type": "markdown",
   "metadata": {},
   "source": [
    "Mas se não souber, pode fazer uma pesquisa pelo nome e pedir para retornar seu índice, como no exemplo abaixo:"
   ]
  },
  {
   "cell_type": "code",
   "execution_count": 10,
   "metadata": {},
   "outputs": [
    {
     "name": "stdout",
     "output_type": "stream",
     "text": [
      "Fulano\n",
      "Alex\n",
      "Beltrano\n",
      "Joana\n",
      "Maria\n",
      "Fulano\n"
     ]
    }
   ],
   "source": [
    "nomes_lista = ['Fulano', 'Cicrano', 'Beltrano', 'Joana', 'Maria', 'Fulano']\n",
    "nome_a_alterar = input('Informe o nome que deseja alterar: ')\n",
    "nomes_lista[nomes_lista.index(nome_a_alterar)] = input('Informe o novo nome: ')\n",
    "\n",
    "for nome in nomes_lista:\n",
    "    print(nome)"
   ]
  },
  {
   "cell_type": "markdown",
   "metadata": {},
   "source": [
    "## Inserindo dados em uma lista\n",
    "---"
   ]
  },
  {
   "cell_type": "markdown",
   "metadata": {},
   "source": [
    "É possível inserir manualmente os dados de uma lista, caso o usuário queira criar sua própria lista. Uma das facilidades do Python é que com uma lista simples o usuário pode adicionar quantos itens da lista desejar, sem limites no algoritmo. Vamos criar, por exemplo, um programa para ajudar a dona de casa a montar uma lista de compras:"
   ]
  },
  {
   "cell_type": "code",
   "execution_count": 8,
   "metadata": {},
   "outputs": [
    {
     "name": "stdout",
     "output_type": "stream",
     "text": [
      "Papel higiênico\n",
      "Macarrão\n",
      "Feijão\n",
      "Chocolate\n"
     ]
    }
   ],
   "source": [
    "# lista vazia\n",
    "lista_itens = []\n",
    "\n",
    "# loop\n",
    "while True:\n",
    "    # informa o nome do item\n",
    "    item = input('Insira um item, ou deixe em branco para terminar a lista: ')\n",
    "\n",
    "    # verifica se o valor foi inserido ou não\n",
    "    if item != '':\n",
    "        # adiciona o item na lista\n",
    "        lista_itens.append(item)\n",
    "        continue\n",
    "    else:\n",
    "        # encerra a lista\n",
    "        break\n",
    "\n",
    "# exibe a lista\n",
    "for item in lista_itens:\n",
    "    print(item)"
   ]
  },
  {
   "cell_type": "markdown",
   "metadata": {},
   "source": [
    "### Adicionando um item em uma posição da lista\n",
    "\n",
    "Podemos adicionar um item da lista em uma posição específica, seja no início, no meio ou no fim, não importa. No exemplo abaixo iremos solicitar ao usuário qual valor e qual a posição ele deseja inserir o novo valor:"
   ]
  },
  {
   "cell_type": "code",
   "execution_count": 9,
   "metadata": {},
   "outputs": [
    {
     "name": "stdout",
     "output_type": "stream",
     "text": [
      "Alex inserido na posição 2 com sucesso.\n",
      "Fulano\n",
      "Alex\n",
      "Cicrano\n",
      "Beltrano\n",
      "Joana\n",
      "Maria\n",
      "Mariana\n"
     ]
    }
   ],
   "source": [
    "nomes_lista = ['Fulano', 'Cicrano', 'Beltrano', 'Joana', 'Maria', 'Mariana']\n",
    "\n",
    "novo_nome = input('Informe o novo nome a ser inserido na lista: ')\n",
    "posicao = int(input('Informe a posição que deseja inserir (de 1 a 6):'))\n",
    "\n",
    "# corrige a posição para a contagem do computador\n",
    "posicao -= 1\n",
    "\n",
    "# tenta inserir o nome na posição desejada\n",
    "try:\n",
    "    nomes_lista.insert(posicao, novo_nome)\n",
    "    print(f'{novo_nome} inserido na posição {posicao + 1} com sucesso.')\n",
    "except:\n",
    "    print('Não foi possível inserir o nome.')\n",
    "\n",
    "# exibe os nomes na lista\n",
    "for nome in nomes_lista:\n",
    "    print(nome)"
   ]
  },
  {
   "cell_type": "markdown",
   "metadata": {},
   "source": [
    "## Deletando dados de uma lista\n",
    "---"
   ]
  },
  {
   "cell_type": "markdown",
   "metadata": {},
   "source": [
    "Fareamos agora o inverso: deletar um item que já está em uma lista. Para isso, precisaremos informar a sua posição na lista. Mais uma vez, para evitar erros por parte do usuário, iremos aplicar uma correção subtraindo o valor que o usuário informar por `-1` para que ele delete exatamente o item na posição que o usuário desejar:"
   ]
  },
  {
   "cell_type": "code",
   "execution_count": 10,
   "metadata": {},
   "outputs": [
    {
     "name": "stdout",
     "output_type": "stream",
     "text": [
      "Fulano\n",
      "Beltrano\n",
      "Joana\n",
      "Maria\n",
      "Mariana\n"
     ]
    }
   ],
   "source": [
    "nomes_lista = ['Fulano', 'Cicrano', 'Beltrano', 'Joana', 'Maria', 'Mariana']\n",
    "\n",
    "posicao = int(input('Informe a posição do item que deseja excluir (de 1 a 6): '))\n",
    "posicao -= 1\n",
    "\n",
    "# tenta deletar o item na posição informada\n",
    "try:\n",
    "    del(nomes_lista[posicao])\n",
    "except:\n",
    "    print('Não foi possível deletar.')\n",
    "\n",
    "# exibe a nova lista\n",
    "for nome in nomes_lista:\n",
    "    print(nome)"
   ]
  },
  {
   "cell_type": "markdown",
   "metadata": {},
   "source": [
    "### Deletando valor específico da lista\n",
    "\n",
    "Nesse tipo de algoritmo, você pode deletar um item pelo valor dele, caso saiba que esse valor esteja na lista, mas não sabe em qual posição, esse algoritmo pode ser útil. Mas esse algoritmo tem um problema: se por acaso o valor a ser deletado tiver repetido na lista, só irá deletar a primeira ocorrência em que ela ocorre:"
   ]
  },
  {
   "cell_type": "code",
   "execution_count": 11,
   "metadata": {},
   "outputs": [
    {
     "name": "stdout",
     "output_type": "stream",
     "text": [
      "Cicrano\n",
      "Beltrano\n",
      "Joana\n",
      "Maria\n",
      "Mariana\n"
     ]
    }
   ],
   "source": [
    "nomes_lista = ['Fulano', 'Cicrano', 'Beltrano', 'Joana', 'Maria', 'Mariana']\n",
    "nome_a_excluir = input('Informe o nome que deseja retirar da lista: ')\n",
    "\n",
    "# tenta excluir o nome\n",
    "try:\n",
    "    nomes_lista.remove(nome_a_excluir)\n",
    "except:\n",
    "    print('Nome não pode ser excluído.')\n",
    "\n",
    "# exibe a nova lista\n",
    "for nome in nomes_lista:\n",
    "    print(nome)"
   ]
  },
  {
   "cell_type": "markdown",
   "metadata": {},
   "source": [
    "## Serapando item da lista em uma variável\n",
    "---"
   ]
  },
  {
   "cell_type": "markdown",
   "metadata": {},
   "source": [
    "Se por acaso precisar isolar especificamente um item da lista, também é perfeitamente possível através da função `pop()`."
   ]
  },
  {
   "cell_type": "code",
   "execution_count": 3,
   "metadata": {},
   "outputs": [
    {
     "name": "stdout",
     "output_type": "stream",
     "text": [
      "Fulano\n"
     ]
    }
   ],
   "source": [
    "nomes_lista = ['Fulano', 'Cicrano', 'Beltrano', 'Joana', 'Maria', 'Mariana']\n",
    "indice = int(input('Informe o número do índice do elemento que deseja separar da lista: '))\n",
    "indice -= 1\n",
    "\n",
    "# tenta separar o nome da lista\n",
    "try:\n",
    "    nome_separado = nomes_lista.pop(indice)\n",
    "except:\n",
    "    print('Não foi possível separar.')\n",
    "\n",
    "print(nome_separado)"
   ]
  },
  {
   "cell_type": "markdown",
   "metadata": {},
   "source": [
    "Se preferir, pode fazer uma procura pelo valor e retornar um índice para separar o valor:"
   ]
  },
  {
   "cell_type": "code",
   "execution_count": 4,
   "metadata": {},
   "outputs": [
    {
     "name": "stdout",
     "output_type": "stream",
     "text": [
      "Maria\n"
     ]
    }
   ],
   "source": [
    "nomes_lista = ['Fulano', 'Cicrano', 'Beltrano', 'Joana', 'Maria', 'Mariana']\n",
    "nome_a_separar = input('Informe o nome que deseja separar da lista: ')\n",
    "\n",
    "try:\n",
    "    nome_separado = nomes_lista.pop(nomes_lista.index(nome_a_separar))\n",
    "except:\n",
    "    print('Não foi possível separar.')\n",
    "\n",
    "print(nome_separado)"
   ]
  },
  {
   "cell_type": "markdown",
   "metadata": {},
   "source": [
    "## Join\n",
    "---"
   ]
  },
  {
   "cell_type": "markdown",
   "metadata": {},
   "source": [
    "Dependendo do tipo de operação que precisar fazer, pode haver a necessidade de juntar os valores de uma lista em uma única variável. Caso haja essa necessidade, você pode fazer uso da função `join()`, conforme demonstrado abaixo:"
   ]
  },
  {
   "cell_type": "code",
   "execution_count": 7,
   "metadata": {},
   "outputs": [
    {
     "name": "stdout",
     "output_type": "stream",
     "text": [
      "Fulano,Cicrano,Beltrano,Joana,Maria,Mariana\n"
     ]
    }
   ],
   "source": [
    "nomes_lista = ['Fulano', 'Cicrano', 'Beltrano', 'Joana', 'Maria', 'Mariana']\n",
    "\n",
    "# insere um separador\n",
    "separador = ','\n",
    "\n",
    "# junta os nomes em uma única variável\n",
    "nomes_string = separador.join(nomes_lista)\n",
    "\n",
    "print(nomes_string)"
   ]
  },
  {
   "cell_type": "markdown",
   "metadata": {},
   "source": [
    "## Split\n",
    "---"
   ]
  },
  {
   "cell_type": "markdown",
   "metadata": {},
   "source": [
    "A função `split()` faz exatamente o contrário do `join()`, ou seja, pega os valores de uma variável e separa em elementos diferentes de uma lista:"
   ]
  },
  {
   "cell_type": "code",
   "execution_count": 8,
   "metadata": {},
   "outputs": [
    {
     "name": "stdout",
     "output_type": "stream",
     "text": [
      "Janeiro\n",
      "Fevereiro\n",
      "Março\n",
      "Abril\n",
      "Maio\n",
      "Junho\n",
      "Julho\n",
      "Agosto\n",
      "Setembro\n",
      "Outubro\n",
      "Novembro\n",
      "Dezembro\n"
     ]
    }
   ],
   "source": [
    "meses_string = 'Janeiro Fevereiro Março Abril Maio Junho Julho Agosto Setembro Outubro Novembro Dezembro'\n",
    "\n",
    "# insere o separador para separar os valores e os insere em uma lista\n",
    "meses_lista = meses_string.split(' ')\n",
    "\n",
    "# exibe a lista\n",
    "for mes in meses_lista:\n",
    "    print(mes)"
   ]
  },
  {
   "cell_type": "markdown",
   "metadata": {},
   "source": [
    "## Lista numérica\n",
    "---"
   ]
  },
  {
   "cell_type": "markdown",
   "metadata": {},
   "source": [
    "É possível também montar uma lista com números, não só com strings. Veja o exemplo abaixo:"
   ]
  },
  {
   "cell_type": "code",
   "execution_count": 11,
   "metadata": {},
   "outputs": [
    {
     "name": "stdout",
     "output_type": "stream",
     "text": [
      "[1, 2, 3, 4, 5]\n"
     ]
    }
   ],
   "source": [
    "# lista numérica\n",
    "numeros = [1, 2, 3, 4, 5]\n",
    "print(numeros)"
   ]
  },
  {
   "cell_type": "markdown",
   "metadata": {},
   "source": [
    "A vantagem de montar uma lista numérica são algumas operações a mais que podem ser feitas.\n",
    "\n",
    "### Soma dos números de uma lista\n",
    "\n",
    "Um exemplo de uma operação que pode ser feita com números de uma lista é uma soma. Veja o exemplo abaixo:"
   ]
  },
  {
   "cell_type": "code",
   "execution_count": 12,
   "metadata": {},
   "outputs": [
    {
     "name": "stdout",
     "output_type": "stream",
     "text": [
      "15\n"
     ]
    }
   ],
   "source": [
    "numeros = [1, 2, 3, 4, 5]\n",
    "\n",
    "# soma os números da lista\n",
    "print(sum(numeros))"
   ]
  },
  {
   "cell_type": "markdown",
   "metadata": {},
   "source": [
    "### Ordem crescente e decrescente\n",
    "\n",
    "Também é possível fazer uma ordenação dos números, tanto em ordem crescente quanto em ordem decresccente. Veja no código abaixo:"
   ]
  },
  {
   "cell_type": "code",
   "execution_count": 20,
   "metadata": {},
   "outputs": [
    {
     "name": "stdout",
     "output_type": "stream",
     "text": [
      "[1, 2, 3, 4, 5, 6]\n",
      "[6, 5, 4, 3, 2, 1]\n"
     ]
    }
   ],
   "source": [
    "numeros = [1,3,2,6,4,5]\n",
    "\n",
    "# imprime em ordem crescente\n",
    "numeros.sort()\n",
    "print(numeros)\n",
    "\n",
    "# imprime em ordem decrescente\n",
    "numeros.sort(reverse=True)\n",
    "print(numeros)"
   ]
  },
  {
   "cell_type": "markdown",
   "metadata": {},
   "source": [
    "## Exercícios\n",
    "---"
   ]
  },
  {
   "cell_type": "markdown",
   "metadata": {},
   "source": [
    "### 1. Crie um programa que possa incluir, pesquisar, alterar e excluir nomes em uma lista, que pode ter quantos nomes o usuário desejar.\n",
    "### 2. Crie um programa que o usuário possa digitar quantos números digitar, e ao terminar, imprima os números em ordem crescente.\n",
    "### 3. Crie um programa que o usuário possa digitar uma quantidade desejada de notas de um determinado aluno (nota mínima 0 e nota máxima 10), e o programa calcula a média desse aluno, e ao final informe se o aluno está aprovado ou reprovado (média mínima para aprovação = 7)."
   ]
  }
 ],
 "metadata": {
  "kernelspec": {
   "display_name": ".venv",
   "language": "python",
   "name": "python3"
  },
  "language_info": {
   "codemirror_mode": {
    "name": "ipython",
    "version": 3
   },
   "file_extension": ".py",
   "mimetype": "text/x-python",
   "name": "python",
   "nbconvert_exporter": "python",
   "pygments_lexer": "ipython3",
   "version": "3.12.2"
  }
 },
 "nbformat": 4,
 "nbformat_minor": 2
}

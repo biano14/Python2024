{
 "cells": [
  {
   "cell_type": "markdown",
   "metadata": {},
   "source": [
    "# **Aula 10 - Coleções Parte 2: Tupla**\n",
    "---"
   ]
  },
  {
   "cell_type": "markdown",
   "metadata": {},
   "source": [
    "As tuplas são um tipo de coleções muito similar às listas da aula anterior, funcionam da mesma maneira, e permitem algumas das mesmas operações. A diferença é que os valores de uma tupla não podem ser modificadas, pois elas funcionam como um conjunto de **constantes** ao invés de variáveis. Dessa forma, o programa começa com seus valores padrões, e terminam com esses mesmos valores, sem possibilidade de mudança.\n",
    "\n",
    "### Como diferenciar as tuplas das listas visualmente falando?\n",
    "\n",
    "Como vimos na aula anterior, as listas são identificadas pelos **colchetes** (`[]`), enquanto as tuplas são identificadas pelos **parênteses** (`()`). Exemplos: `lista = ['Fulano', 'Cicrano', 'Beltrano']` é uma lista. Já `tupla = ('Fulano', 'Cicrano', 'Beltrano')` é uma tupla. Observe os códigos à seguir:\n",
    "\n",
    "#### Lista"
   ]
  },
  {
   "cell_type": "code",
   "execution_count": 1,
   "metadata": {},
   "outputs": [
    {
     "name": "stdout",
     "output_type": "stream",
     "text": [
      "['Maçã', 'Uva', 'Laranja']\n"
     ]
    }
   ],
   "source": [
    "# isto é uma lista\n",
    "lista_frutas = ['Maçã', 'Uva', 'Laranja']\n",
    "\n",
    "print(lista_frutas)"
   ]
  },
  {
   "cell_type": "markdown",
   "metadata": {},
   "source": [
    "#### Tuplas"
   ]
  },
  {
   "cell_type": "code",
   "execution_count": 2,
   "metadata": {},
   "outputs": [
    {
     "name": "stdout",
     "output_type": "stream",
     "text": [
      "('Maçã', 'Uva', 'Laranja')\n"
     ]
    }
   ],
   "source": [
    "# isto é uma tupla\n",
    "tupla_frutas = ('Maçã', 'Uva', 'Laranja')\n",
    "\n",
    "print(tupla_frutas)"
   ]
  },
  {
   "cell_type": "markdown",
   "metadata": {},
   "source": [
    "## Operações de listas que podem ser feitas com tuplas\n",
    "---"
   ]
  },
  {
   "cell_type": "markdown",
   "metadata": {},
   "source": [
    "### Listar todos os valores em um loop"
   ]
  },
  {
   "cell_type": "code",
   "execution_count": 3,
   "metadata": {},
   "outputs": [
    {
     "name": "stdout",
     "output_type": "stream",
     "text": [
      "Maçã\n",
      "Uva\n",
      "Laranja\n",
      "Mamão\n",
      "Melão\n",
      "Pêra\n"
     ]
    }
   ],
   "source": [
    "tupla_frutas = ('Maçã', 'Uva', 'Laranja', 'Mamão', 'Melão', 'Pêra')\n",
    "\n",
    "for fruta in tupla_frutas:\n",
    "    print(fruta)"
   ]
  },
  {
   "cell_type": "markdown",
   "metadata": {},
   "source": [
    "### Mostrar o valor de um índice específico\n",
    "\n",
    "Aqui as regras são exatamente as mesmas das listas: o índice começa do 0, e na hora de exibir o valor de um determinado índice, usar colchetes ao invés de parênteses. Exemplo: para acessar o terceiro valor de uma tupla chamada `tupla`, use o código `tupla[2]`. Observe o código abaixo como exemplo:"
   ]
  },
  {
   "cell_type": "code",
   "execution_count": 6,
   "metadata": {},
   "outputs": [
    {
     "name": "stdout",
     "output_type": "stream",
     "text": [
      "Laranja\n"
     ]
    }
   ],
   "source": [
    "tupla_frutas = ('Maçã', 'Uva', 'Laranja', 'Mamão', 'Melão', 'Pêra')\n",
    "\n",
    "print(tupla_frutas[2])"
   ]
  },
  {
   "cell_type": "markdown",
   "metadata": {},
   "source": [
    "### Pesquisar por um valor"
   ]
  },
  {
   "cell_type": "code",
   "execution_count": 9,
   "metadata": {},
   "outputs": [
    {
     "name": "stdout",
     "output_type": "stream",
     "text": [
      "Maçã\n"
     ]
    }
   ],
   "source": [
    "tupla_frutas = ('Maçã', 'Uva', 'Laranja', 'Mamão', 'Melão', 'Pêra')\n",
    "fruta = input('Informe o nome da fruta que deseja encontrar: ')\n",
    "\n",
    "if fruta in tupla_frutas:\n",
    "    print(fruta)\n",
    "else:\n",
    "    print(f'{fruta} não encontrada.')"
   ]
  },
  {
   "cell_type": "markdown",
   "metadata": {},
   "source": [
    "### Join"
   ]
  },
  {
   "cell_type": "code",
   "execution_count": 16,
   "metadata": {},
   "outputs": [
    {
     "name": "stdout",
     "output_type": "stream",
     "text": [
      "Maçã,Uva,Laranja,Mamão,Melão,Pêra\n"
     ]
    }
   ],
   "source": [
    "tupla_frutas = ('Maçã', 'Uva', 'Laranja', 'Mamão', 'Melão', 'Pêra')\n",
    "separador = ','\n",
    "frutas_string = separador.join(tupla_frutas)\n",
    "print(frutas_string)"
   ]
  },
  {
   "cell_type": "markdown",
   "metadata": {},
   "source": [
    "## Operações de listas que não podem ser feitas em tuplas\n",
    "---"
   ]
  },
  {
   "cell_type": "markdown",
   "metadata": {},
   "source": [
    "- Ordenar de forma direta com `sort()`.\n",
    "- Alterar qualquer um dos valores.\n",
    "- Inserir elemento em uma tupla.\n",
    "- Deletar elemento de uma tupla.\n",
    "- Separar item em uma variável."
   ]
  },
  {
   "cell_type": "markdown",
   "metadata": {},
   "source": [
    "## Operações que são feitas de forma diferente nas tuplas\n",
    "---"
   ]
  },
  {
   "cell_type": "markdown",
   "metadata": {},
   "source": [
    "### Ordenar\n",
    "\n",
    "Não é possível ordenar diretamente, mas é possível atribuir o comando `sorted()` a uma variável, que irá se transformar em uma outra lista diferente."
   ]
  },
  {
   "cell_type": "code",
   "execution_count": 8,
   "metadata": {},
   "outputs": [
    {
     "name": "stdout",
     "output_type": "stream",
     "text": [
      "Laranja\n",
      "Mamão\n",
      "Maçã\n",
      "Melão\n",
      "Pêra\n",
      "Uva\n"
     ]
    }
   ],
   "source": [
    "tupla_frutas = ('Maçã', 'Uva', 'Laranja', 'Mamão', 'Melão', 'Pêra')\n",
    "frutas_ordenadas = sorted(tupla_frutas)\n",
    "\n",
    "for fruta in frutas_ordenadas:\n",
    "    print(fruta)"
   ]
  }
 ],
 "metadata": {
  "kernelspec": {
   "display_name": ".venv",
   "language": "python",
   "name": "python3"
  },
  "language_info": {
   "codemirror_mode": {
    "name": "ipython",
    "version": 3
   },
   "file_extension": ".py",
   "mimetype": "text/x-python",
   "name": "python",
   "nbconvert_exporter": "python",
   "pygments_lexer": "ipython3",
   "version": "3.12.2"
  }
 },
 "nbformat": 4,
 "nbformat_minor": 2
}

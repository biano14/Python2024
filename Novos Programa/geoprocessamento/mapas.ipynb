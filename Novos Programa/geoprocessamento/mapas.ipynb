{
 "cells": [
  {
   "cell_type": "markdown",
   "metadata": {},
   "source": [
    "# **Mapas**\n",
    "---\n",
    "Na aula de hoje, vamos trabalhar com **geoprocessamento**, que nada mais é do que a exibição de dados em mapas geográficos. Na célula de código abaixo, vamos importa a bilbioteca de geração de mapas geográficos. Para isso, vamos fazer uso da biblioteca **Folium**. Para usarmos, precisaremos instalá-la através do comando ´pip install folium´."
   ]
  },
  {
   "cell_type": "code",
   "execution_count": 1,
   "metadata": {},
   "outputs": [],
   "source": [
    "import folium"
   ]
  },
  {
   "cell_type": "markdown",
   "metadata": {},
   "source": [
    "Na próxima célula de código, vamos gerar um mapa e fazê-lo abrir na cidade de **Brasília - DF**"
   ]
  },
  {
   "cell_type": "code",
   "execution_count": null,
   "metadata": {},
   "outputs": [],
   "source": [
    "# mapa de Brasília\n",
    "mapa = folium.Map(location = [-15.7834301996, -47.899],zoom_start = 13)\n",
    "display(mapa)"
   ]
  },
  {
   "cell_type": "markdown",
   "metadata": {},
   "source": [
    "Na próxima célula de código vamos criar marcações de lugares."
   ]
  },
  {
   "cell_type": "code",
   "execution_count": null,
   "metadata": {},
   "outputs": [],
   "source": [
    "folium.Marker(location =[-15.7948,-47.91319], popup= 'SENAI SIG.\\nOnde está acontecendo o curso de Python Developer!').add_to(mapa)\n",
    "display(mapa)"
   ]
  },
  {
   "cell_type": "markdown",
   "metadata": {},
   "source": [
    "Salvando o mapa em uma página HTML:"
   ]
  },
  {
   "cell_type": "code",
   "execution_count": 5,
   "metadata": {},
   "outputs": [],
   "source": [
    "mapa.save(\"index.html\")"
   ]
  },
  {
   "cell_type": "code",
   "execution_count": null,
   "metadata": {},
   "outputs": [],
   "source": [
    "folium.Marker(location= [-15.7948, -47.91319], popup= 'SENAI SIG\\nOnde está acontecendo o curso de Python Developper').add_to(mapa)\n",
    "folium.Marker(location= [-15.7834301996, -47.899], popup= 'Estádio Nacional Mané Garrincha',icon=folium.Icon(color='red')).add_to(mapa)\n",
    "display(mapa)\n"
   ]
  }
 ],
 "metadata": {
  "kernelspec": {
   "display_name": ".venv",
   "language": "python",
   "name": "python3"
  },
  "language_info": {
   "codemirror_mode": {
    "name": "ipython",
    "version": 3
   },
   "file_extension": ".py",
   "mimetype": "text/x-python",
   "name": "python",
   "nbconvert_exporter": "python",
   "pygments_lexer": "ipython3",
   "version": "3.12.4"
  }
 },
 "nbformat": 4,
 "nbformat_minor": 2
}

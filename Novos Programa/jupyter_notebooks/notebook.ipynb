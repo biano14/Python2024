{
 "cells": [
  {
   "cell_type": "markdown",
   "metadata": {},
   "source": [
    "# Titulo 1\n",
    "## Titulo 2\n",
    "### Titulo 3\n",
    "\n",
    "*Itálico* <br/>\n",
    "**Negrito** <br/>\n",
    "***Negrito Itálico*** <br/>\n",
    "\n",
    "<br/>\n",
    "<br/>\n",
    "\n",
    "esse é o codigo: <br/>\n",
    "`print (\"Hello World\")`.\n",
    "<br/>\n",
    "<br/>\n",
    "1. Você vai clicar em **Não**?<br/><br/>\n",
    "<input type= \"radio\" name = \"questão\" />\n"
   ]
  },
  {
   "cell_type": "markdown",
   "metadata": {},
   "source": []
  },
  {
   "cell_type": "markdown",
   "metadata": {},
   "source": []
  },
  {
   "cell_type": "code",
   "execution_count": 8,
   "metadata": {},
   "outputs": [
    {
     "name": "stdout",
     "output_type": "stream",
     "text": [
      "Qual o nome do filme? \n",
      "Resposta = O codigo dá 20\n"
     ]
    }
   ],
   "source": [
    "n1 = 15\n",
    "n2 = 5\n",
    "n3 = n1 + n2\n",
    "\n",
    "print(f'Qual o nome do filme? \\nResposta = O codigo dá {n3}')"
   ]
  },
  {
   "cell_type": "markdown",
   "metadata": {},
   "source": [
    "Repare que o código-fonte das celulas consideram o resultado das células anteriores do mesmo notebook. Observe no código a seguir:"
   ]
  },
  {
   "cell_type": "code",
   "execution_count": 9,
   "metadata": {},
   "outputs": [
    {
     "name": "stdout",
     "output_type": "stream",
     "text": [
      "Resultado = 200\n"
     ]
    }
   ],
   "source": [
    "x = 10\n",
    "\n",
    "print(f'Resultado = {x*n3}')"
   ]
  },
  {
   "cell_type": "markdown",
   "metadata": {},
   "source": [
    "Vamos ver como um código de entrada de dados em um notebook:"
   ]
  },
  {
   "cell_type": "code",
   "execution_count": 10,
   "metadata": {},
   "outputs": [
    {
     "name": "stdout",
     "output_type": "stream",
     "text": [
      "oi\n"
     ]
    }
   ],
   "source": [
    "texto = input('Informe um texto a ser exibido na célula: ')\n",
    "print(texto)"
   ]
  }
 ],
 "metadata": {
  "kernelspec": {
   "display_name": ".venv",
   "language": "python",
   "name": "python3"
  },
  "language_info": {
   "codemirror_mode": {
    "name": "ipython",
    "version": 3
   },
   "file_extension": ".py",
   "mimetype": "text/x-python",
   "name": "python",
   "nbconvert_exporter": "python",
   "pygments_lexer": "ipython3",
   "version": "3.12.4"
  }
 },
 "nbformat": 4,
 "nbformat_minor": 2
}
